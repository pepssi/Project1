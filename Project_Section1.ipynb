{
  "nbformat": 4,
  "nbformat_minor": 0,
  "metadata": {
    "colab": {
      "name": "Project_Section1.ipynb",
      "provenance": [],
      "authorship_tag": "ABX9TyNvNh/fc9bEU5XPZHiyCQc2",
      "include_colab_link": true
    },
    "kernelspec": {
      "name": "python3",
      "display_name": "Python 3"
    },
    "language_info": {
      "name": "python"
    }
  },
  "cells": [
    {
      "cell_type": "markdown",
      "metadata": {
        "id": "view-in-github",
        "colab_type": "text"
      },
      "source": [
        "<a href=\"https://colab.research.google.com/github/alohadaun/Project1/blob/main/Project_Section1.ipynb\" target=\"_parent\"><img src=\"https://colab.research.google.com/assets/colab-badge.svg\" alt=\"Open In Colab\"/></a>"
      ]
    },
    {
      "cell_type": "markdown",
      "metadata": {
        "id": "6VbsSolphURu"
      },
      "source": [
        "# **🔥 Goal**\n",
        "##  **다음 분기에 어떤 게임을 설계해야 할까?**\n",
        "\n"
      ]
    },
    {
      "cell_type": "markdown",
      "metadata": {
        "id": "1mzCYUo-ggpr"
      },
      "source": [
        "# **목차**\n",
        "1.   데이터셋 생성, 정보 확인\n",
        "2.   EDA 및 전처리\n",
        "3.   분석\n",
        "4.   결론"
      ]
    },
    {
      "cell_type": "markdown",
      "metadata": {
        "id": "OqiSjXRl4VQJ"
      },
      "source": [
        "## **1. 데이터셋 생성 및 정보 확인**"
      ]
    },
    {
      "cell_type": "code",
      "metadata": {
        "colab": {
          "base_uri": "https://localhost:8080/"
        },
        "id": "-defaiEzSuN8",
        "outputId": "9f56cd7d-d54f-4b48-e702-3a05de25ce44"
      },
      "source": [
        "!sudo apt-get install -y fonts-nanum\n",
        "!sudo fc-cache -fv\n",
        "!rm ~/.cache/matplotlib -rf"
      ],
      "execution_count": 112,
      "outputs": [
        {
          "output_type": "stream",
          "name": "stdout",
          "text": [
            "Reading package lists... Done\n",
            "Building dependency tree       \n",
            "Reading state information... Done\n",
            "fonts-nanum is already the newest version (20170925-1).\n",
            "0 upgraded, 0 newly installed, 0 to remove and 37 not upgraded.\n",
            "/usr/share/fonts: caching, new cache contents: 0 fonts, 1 dirs\n",
            "/usr/share/fonts/truetype: caching, new cache contents: 0 fonts, 3 dirs\n",
            "/usr/share/fonts/truetype/humor-sans: caching, new cache contents: 1 fonts, 0 dirs\n",
            "/usr/share/fonts/truetype/liberation: caching, new cache contents: 16 fonts, 0 dirs\n",
            "/usr/share/fonts/truetype/nanum: caching, new cache contents: 10 fonts, 0 dirs\n",
            "/usr/local/share/fonts: caching, new cache contents: 0 fonts, 0 dirs\n",
            "/root/.local/share/fonts: skipping, no such directory\n",
            "/root/.fonts: skipping, no such directory\n",
            "/var/cache/fontconfig: cleaning cache directory\n",
            "/root/.cache/fontconfig: not cleaning non-existent cache directory\n",
            "/root/.fontconfig: not cleaning non-existent cache directory\n",
            "fc-cache: succeeded\n"
          ]
        }
      ]
    },
    {
      "cell_type": "code",
      "metadata": {
        "colab": {
          "base_uri": "https://localhost:8080/"
        },
        "id": "c2EsbHD8KdQw",
        "outputId": "87cd9a4a-5ffe-4404-b4e2-ecbbc9004182"
      },
      "source": [
        "!pip install scipy --upgrade"
      ],
      "execution_count": 113,
      "outputs": [
        {
          "output_type": "stream",
          "name": "stdout",
          "text": [
            "Requirement already satisfied: scipy in /usr/local/lib/python3.7/dist-packages (1.7.1)\n",
            "Requirement already satisfied: numpy<1.23.0,>=1.16.5 in /usr/local/lib/python3.7/dist-packages (from scipy) (1.21.2)\n"
          ]
        }
      ]
    },
    {
      "cell_type": "code",
      "metadata": {
        "id": "dW4RC29mGM2q"
      },
      "source": [
        "import numpy as np\n",
        "import pandas as pd\n",
        "import seaborn as sns\n",
        "import matplotlib.pyplot as plt\n",
        "\n",
        "plt.rc('font', family='NanumBarunGothic')\n",
        "plt.rc('axes', unicode_minus=False)\n",
        "\n",
        "import warnings\n",
        "warnings.filterwarnings('ignore')"
      ],
      "execution_count": 1,
      "outputs": []
    },
    {
      "cell_type": "code",
      "metadata": {
        "colab": {
          "base_uri": "https://localhost:8080/"
        },
        "id": "wc3msLhiO67O",
        "outputId": "61472ac6-1bb7-4e9b-ecec-c7b28d1f1dcb"
      },
      "source": [
        "from google.colab import drive\n",
        "drive.mount('/content/drive')"
      ],
      "execution_count": 2,
      "outputs": [
        {
          "output_type": "stream",
          "name": "stdout",
          "text": [
            "Drive already mounted at /content/drive; to attempt to forcibly remount, call drive.mount(\"/content/drive\", force_remount=True).\n"
          ]
        }
      ]
    },
    {
      "cell_type": "code",
      "metadata": {
        "colab": {
          "base_uri": "https://localhost:8080/",
          "height": 657
        },
        "id": "oIL_IM3qPKnL",
        "outputId": "051fd0a7-bdae-4bcb-c430-256f6cc39fa4"
      },
      "source": [
        "url = '/content/drive/MyDrive/Colab Notebooks/vgames2.csv'\n",
        "\n",
        "game = pd.read_csv(url, index_col = 0)\n",
        "game.head(85)"
      ],
      "execution_count": 3,
      "outputs": [
        {
          "output_type": "execute_result",
          "data": {
            "text/html": [
              "<div>\n",
              "<style scoped>\n",
              "    .dataframe tbody tr th:only-of-type {\n",
              "        vertical-align: middle;\n",
              "    }\n",
              "\n",
              "    .dataframe tbody tr th {\n",
              "        vertical-align: top;\n",
              "    }\n",
              "\n",
              "    .dataframe thead th {\n",
              "        text-align: right;\n",
              "    }\n",
              "</style>\n",
              "<table border=\"1\" class=\"dataframe\">\n",
              "  <thead>\n",
              "    <tr style=\"text-align: right;\">\n",
              "      <th></th>\n",
              "      <th>Name</th>\n",
              "      <th>Platform</th>\n",
              "      <th>Year</th>\n",
              "      <th>Genre</th>\n",
              "      <th>Publisher</th>\n",
              "      <th>NA_Sales</th>\n",
              "      <th>EU_Sales</th>\n",
              "      <th>JP_Sales</th>\n",
              "      <th>Other_Sales</th>\n",
              "    </tr>\n",
              "  </thead>\n",
              "  <tbody>\n",
              "    <tr>\n",
              "      <th>1</th>\n",
              "      <td>Candace Kane's Candy Factory</td>\n",
              "      <td>DS</td>\n",
              "      <td>2008.0</td>\n",
              "      <td>Action</td>\n",
              "      <td>Destineer</td>\n",
              "      <td>0.04</td>\n",
              "      <td>0</td>\n",
              "      <td>0</td>\n",
              "      <td>0</td>\n",
              "    </tr>\n",
              "    <tr>\n",
              "      <th>2</th>\n",
              "      <td>The Munchables</td>\n",
              "      <td>Wii</td>\n",
              "      <td>2009.0</td>\n",
              "      <td>Action</td>\n",
              "      <td>Namco Bandai Games</td>\n",
              "      <td>0.17</td>\n",
              "      <td>0</td>\n",
              "      <td>0</td>\n",
              "      <td>0.01</td>\n",
              "    </tr>\n",
              "    <tr>\n",
              "      <th>3</th>\n",
              "      <td>Otome wa Oanesama Boku ni Koi Shiteru Portable</td>\n",
              "      <td>PSP</td>\n",
              "      <td>2010.0</td>\n",
              "      <td>Adventure</td>\n",
              "      <td>Alchemist</td>\n",
              "      <td>0</td>\n",
              "      <td>0</td>\n",
              "      <td>0.02</td>\n",
              "      <td>0</td>\n",
              "    </tr>\n",
              "    <tr>\n",
              "      <th>4</th>\n",
              "      <td>Deal or No Deal: Special Edition</td>\n",
              "      <td>DS</td>\n",
              "      <td>2010.0</td>\n",
              "      <td>Misc</td>\n",
              "      <td>Zoo Games</td>\n",
              "      <td>0.04</td>\n",
              "      <td>0</td>\n",
              "      <td>0</td>\n",
              "      <td>0</td>\n",
              "    </tr>\n",
              "    <tr>\n",
              "      <th>5</th>\n",
              "      <td>Ben 10 Ultimate Alien: Cosmic Destruction</td>\n",
              "      <td>PS3</td>\n",
              "      <td>2010.0</td>\n",
              "      <td>Platform</td>\n",
              "      <td>D3Publisher</td>\n",
              "      <td>0.12</td>\n",
              "      <td>0.09</td>\n",
              "      <td>0</td>\n",
              "      <td>0.04</td>\n",
              "    </tr>\n",
              "    <tr>\n",
              "      <th>...</th>\n",
              "      <td>...</td>\n",
              "      <td>...</td>\n",
              "      <td>...</td>\n",
              "      <td>...</td>\n",
              "      <td>...</td>\n",
              "      <td>...</td>\n",
              "      <td>...</td>\n",
              "      <td>...</td>\n",
              "      <td>...</td>\n",
              "    </tr>\n",
              "    <tr>\n",
              "      <th>81</th>\n",
              "      <td>Dynasty Warriors Advance</td>\n",
              "      <td>GBA</td>\n",
              "      <td>2005.0</td>\n",
              "      <td>Action</td>\n",
              "      <td>Nintendo</td>\n",
              "      <td>0.08</td>\n",
              "      <td>0.03</td>\n",
              "      <td>0</td>\n",
              "      <td>0</td>\n",
              "    </tr>\n",
              "    <tr>\n",
              "      <th>82</th>\n",
              "      <td>Treasures of the Deep</td>\n",
              "      <td>PS</td>\n",
              "      <td>97.0</td>\n",
              "      <td>Action</td>\n",
              "      <td>Namco Bandai Games</td>\n",
              "      <td>0.1</td>\n",
              "      <td>0.07</td>\n",
              "      <td>0</td>\n",
              "      <td>0.01</td>\n",
              "    </tr>\n",
              "    <tr>\n",
              "      <th>83</th>\n",
              "      <td>Mobile Suit Gundam: Perfect One Year War</td>\n",
              "      <td>PS</td>\n",
              "      <td>1997.0</td>\n",
              "      <td>Strategy</td>\n",
              "      <td>Namco Bandai Games</td>\n",
              "      <td>0</td>\n",
              "      <td>0</td>\n",
              "      <td>0.14</td>\n",
              "      <td>0.01</td>\n",
              "    </tr>\n",
              "    <tr>\n",
              "      <th>84</th>\n",
              "      <td>Billy Hatcher and the Giant Egg</td>\n",
              "      <td>GC</td>\n",
              "      <td>2003.0</td>\n",
              "      <td>Platform</td>\n",
              "      <td>Sega</td>\n",
              "      <td>0.19</td>\n",
              "      <td>0.05</td>\n",
              "      <td>0</td>\n",
              "      <td>0.01</td>\n",
              "    </tr>\n",
              "    <tr>\n",
              "      <th>85</th>\n",
              "      <td>Tom and Jerry in Fists of Furry</td>\n",
              "      <td>N64</td>\n",
              "      <td>2000.0</td>\n",
              "      <td>Fighting</td>\n",
              "      <td>Ubisoft</td>\n",
              "      <td>0.13</td>\n",
              "      <td>0.03</td>\n",
              "      <td>0</td>\n",
              "      <td>0</td>\n",
              "    </tr>\n",
              "  </tbody>\n",
              "</table>\n",
              "<p>85 rows × 9 columns</p>\n",
              "</div>"
            ],
            "text/plain": [
              "                                              Name  ... Other_Sales\n",
              "1                     Candace Kane's Candy Factory  ...           0\n",
              "2                                   The Munchables  ...        0.01\n",
              "3   Otome wa Oanesama Boku ni Koi Shiteru Portable  ...           0\n",
              "4                 Deal or No Deal: Special Edition  ...           0\n",
              "5        Ben 10 Ultimate Alien: Cosmic Destruction  ...        0.04\n",
              "..                                             ...  ...         ...\n",
              "81                        Dynasty Warriors Advance  ...           0\n",
              "82                           Treasures of the Deep  ...        0.01\n",
              "83        Mobile Suit Gundam: Perfect One Year War  ...        0.01\n",
              "84                 Billy Hatcher and the Giant Egg  ...        0.01\n",
              "85                 Tom and Jerry in Fists of Furry  ...           0\n",
              "\n",
              "[85 rows x 9 columns]"
            ]
          },
          "metadata": {},
          "execution_count": 3
        }
      ]
    },
    {
      "cell_type": "code",
      "metadata": {
        "colab": {
          "base_uri": "https://localhost:8080/"
        },
        "id": "MkjPjeY3bopA",
        "outputId": "6c5451fb-2329-48d0-9d58-350fd31769f1"
      },
      "source": [
        "# Year, Genre, Publisher 컬럼에 결측치 존재\n",
        "# 출고량의 형변화 필요 (문자 > 숫자)\n",
        "\n",
        "game.info()"
      ],
      "execution_count": 4,
      "outputs": [
        {
          "output_type": "stream",
          "name": "stdout",
          "text": [
            "<class 'pandas.core.frame.DataFrame'>\n",
            "Int64Index: 16598 entries, 1 to 16598\n",
            "Data columns (total 9 columns):\n",
            " #   Column       Non-Null Count  Dtype  \n",
            "---  ------       --------------  -----  \n",
            " 0   Name         16598 non-null  object \n",
            " 1   Platform     16598 non-null  object \n",
            " 2   Year         16327 non-null  float64\n",
            " 3   Genre        16548 non-null  object \n",
            " 4   Publisher    16540 non-null  object \n",
            " 5   NA_Sales     16598 non-null  object \n",
            " 6   EU_Sales     16598 non-null  object \n",
            " 7   JP_Sales     16598 non-null  object \n",
            " 8   Other_Sales  16598 non-null  object \n",
            "dtypes: float64(1), object(8)\n",
            "memory usage: 1.3+ MB\n"
          ]
        }
      ]
    },
    {
      "cell_type": "markdown",
      "metadata": {
        "id": "rF1IL1pB4eo_"
      },
      "source": [
        "## **2. EDA 및 전처리**"
      ]
    },
    {
      "cell_type": "code",
      "metadata": {
        "id": "FrLylPf2Tnkq"
      },
      "source": [
        "# 출고량을 숫자로 변경하고, K/M 처리를 위한 함수 작성\n",
        "def tozero(x):\n",
        "    if 'K' in x:\n",
        "        x = x.replace('K','')\n",
        "        x = float(x)/1000\n",
        "    elif 'M' in x:\n",
        "        x = x.replace('M','')\n",
        "    return float(x)\n",
        "\n",
        "# 각 출고량 컬럼에 함수 적용\n",
        "for col in ['NA_Sales', 'EU_Sales', 'JP_Sales', 'Other_Sales']:\n",
        "    game[col] = game[col].apply(tozero)"
      ],
      "execution_count": 5,
      "outputs": []
    },
    {
      "cell_type": "code",
      "metadata": {
        "colab": {
          "base_uri": "https://localhost:8080/",
          "height": 353
        },
        "id": "waGS0iaHufSn",
        "outputId": "1ef3c344-b36d-4b40-a093-0bef5dddb4a8"
      },
      "source": [
        "# 컬럼별 데이터 분포 확인\n",
        "# Year 컬럼 이상치로 의심되는 데이터 확인, 네자리수가 아닌 0~250 사이의 데이터 확인.\n",
        "\n",
        "plt.figure(figsize = (20, 8))\n",
        "\n",
        "for i, col in enumerate(['NA_Sales', 'EU_Sales', 'JP_Sales', 'Other_Sales', 'Year']):\n",
        "    plt.subplot(2, 3, i+1)\n",
        "    plt.hist(game[col])\n",
        "    plt.title(col)\n",
        "plt.show();"
      ],
      "execution_count": 6,
      "outputs": [
        {
          "output_type": "display_data",
          "data": {
            "image/png": "[encoded data removed]",
            "text/plain": [
              "<Figure size 1440x576 with 5 Axes>"
            ]
          },
          "metadata": {
            "needs_background": "light"
          }
        }
      ]
    },
    {
      "cell_type": "code",
      "metadata": {
        "id": "SkgaWP_-YvKh"
      },
      "source": [
        "# Year 컬럼 이상치 처리\n",
        "# 0~16은 2000년대로 변경, 86~98은 1900년대로 변경하는 함수 작성\n",
        "\n",
        "def year(y):\n",
        "    if y <= 16:\n",
        "        y = y + 2000\n",
        "    elif y >= 16 and y <= 98:\n",
        "        y = y + 1900\n",
        "    return y\n",
        "\n",
        "game['Year'] = game['Year'].apply(year)"
      ],
      "execution_count": 7,
      "outputs": []
    },
    {
      "cell_type": "code",
      "metadata": {
        "colab": {
          "base_uri": "https://localhost:8080/",
          "height": 265
        },
        "id": "CvVXqEBCSW90",
        "outputId": "29119504-0811-4db0-850a-d89873e3e1ab"
      },
      "source": [
        "# Year 컬럼의 데이터가 정상적으로 분포된 것을 확인\n",
        "plt.hist(game['Year']);"
      ],
      "execution_count": 8,
      "outputs": [
        {
          "output_type": "display_data",
          "data": {
            "image/png": "[encoded data removed]",
            "text/plain": [
              "<Figure size 432x288 with 1 Axes>"
            ]
          },
          "metadata": {
            "needs_background": "light"
          }
        }
      ]
    },
    {
      "cell_type": "code",
      "metadata": {
        "colab": {
          "base_uri": "https://localhost:8080/"
        },
        "id": "fN6pOBgYcyTp",
        "outputId": "9e693eaf-6126-4334-d256-cf4fa06c6599"
      },
      "source": [
        "# 결측치 제거\n",
        "\n",
        "game.dropna(how = 'any', inplace = True)\n",
        "\n",
        "game.info()"
      ],
      "execution_count": 9,
      "outputs": [
        {
          "output_type": "stream",
          "name": "stdout",
          "text": [
            "<class 'pandas.core.frame.DataFrame'>\n",
            "Int64Index: 16241 entries, 1 to 16598\n",
            "Data columns (total 9 columns):\n",
            " #   Column       Non-Null Count  Dtype  \n",
            "---  ------       --------------  -----  \n",
            " 0   Name         16241 non-null  object \n",
            " 1   Platform     16241 non-null  object \n",
            " 2   Year         16241 non-null  float64\n",
            " 3   Genre        16241 non-null  object \n",
            " 4   Publisher    16241 non-null  object \n",
            " 5   NA_Sales     16241 non-null  float64\n",
            " 6   EU_Sales     16241 non-null  float64\n",
            " 7   JP_Sales     16241 non-null  float64\n",
            " 8   Other_Sales  16241 non-null  float64\n",
            "dtypes: float64(5), object(4)\n",
            "memory usage: 1.2+ MB\n"
          ]
        }
      ]
    },
    {
      "cell_type": "code",
      "metadata": {
        "colab": {
          "base_uri": "https://localhost:8080/",
          "height": 496
        },
        "id": "LHdgtK4W3Fh6",
        "outputId": "a8e63d18-3b69-4e0c-fb6b-95289eb50e6d"
      },
      "source": [
        "# 모든 국가의 출고량을 합산한 컬럼 추가하기\n",
        "\n",
        "game['All_Sales'] = game['NA_Sales'] + game['EU_Sales'] + game['JP_Sales'] + game['Other_Sales']\n",
        "\n",
        "game.head()"
      ],
      "execution_count": 10,
      "outputs": [
        {
          "output_type": "execute_result",
          "data": {
            "text/html": [
              "<div>\n",
              "<style scoped>\n",
              "    .dataframe tbody tr th:only-of-type {\n",
              "        vertical-align: middle;\n",
              "    }\n",
              "\n",
              "    .dataframe tbody tr th {\n",
              "        vertical-align: top;\n",
              "    }\n",
              "\n",
              "    .dataframe thead th {\n",
              "        text-align: right;\n",
              "    }\n",
              "</style>\n",
              "<table border=\"1\" class=\"dataframe\">\n",
              "  <thead>\n",
              "    <tr style=\"text-align: right;\">\n",
              "      <th></th>\n",
              "      <th>Name</th>\n",
              "      <th>Platform</th>\n",
              "      <th>Year</th>\n",
              "      <th>Genre</th>\n",
              "      <th>Publisher</th>\n",
              "      <th>NA_Sales</th>\n",
              "      <th>EU_Sales</th>\n",
              "      <th>JP_Sales</th>\n",
              "      <th>Other_Sales</th>\n",
              "      <th>All_Sales</th>\n",
              "    </tr>\n",
              "  </thead>\n",
              "  <tbody>\n",
              "    <tr>\n",
              "      <th>1</th>\n",
              "      <td>Candace Kane's Candy Factory</td>\n",
              "      <td>DS</td>\n",
              "      <td>2008.0</td>\n",
              "      <td>Action</td>\n",
              "      <td>Destineer</td>\n",
              "      <td>0.04</td>\n",
              "      <td>0.00</td>\n",
              "      <td>0.00</td>\n",
              "      <td>0.00</td>\n",
              "      <td>0.04</td>\n",
              "    </tr>\n",
              "    <tr>\n",
              "      <th>2</th>\n",
              "      <td>The Munchables</td>\n",
              "      <td>Wii</td>\n",
              "      <td>2009.0</td>\n",
              "      <td>Action</td>\n",
              "      <td>Namco Bandai Games</td>\n",
              "      <td>0.17</td>\n",
              "      <td>0.00</td>\n",
              "      <td>0.00</td>\n",
              "      <td>0.01</td>\n",
              "      <td>0.18</td>\n",
              "    </tr>\n",
              "    <tr>\n",
              "      <th>3</th>\n",
              "      <td>Otome wa Oanesama Boku ni Koi Shiteru Portable</td>\n",
              "      <td>PSP</td>\n",
              "      <td>2010.0</td>\n",
              "      <td>Adventure</td>\n",
              "      <td>Alchemist</td>\n",
              "      <td>0.00</td>\n",
              "      <td>0.00</td>\n",
              "      <td>0.02</td>\n",
              "      <td>0.00</td>\n",
              "      <td>0.02</td>\n",
              "    </tr>\n",
              "    <tr>\n",
              "      <th>4</th>\n",
              "      <td>Deal or No Deal: Special Edition</td>\n",
              "      <td>DS</td>\n",
              "      <td>2010.0</td>\n",
              "      <td>Misc</td>\n",
              "      <td>Zoo Games</td>\n",
              "      <td>0.04</td>\n",
              "      <td>0.00</td>\n",
              "      <td>0.00</td>\n",
              "      <td>0.00</td>\n",
              "      <td>0.04</td>\n",
              "    </tr>\n",
              "    <tr>\n",
              "      <th>5</th>\n",
              "      <td>Ben 10 Ultimate Alien: Cosmic Destruction</td>\n",
              "      <td>PS3</td>\n",
              "      <td>2010.0</td>\n",
              "      <td>Platform</td>\n",
              "      <td>D3Publisher</td>\n",
              "      <td>0.12</td>\n",
              "      <td>0.09</td>\n",
              "      <td>0.00</td>\n",
              "      <td>0.04</td>\n",
              "      <td>0.25</td>\n",
              "    </tr>\n",
              "  </tbody>\n",
              "</table>\n",
              "</div>"
            ],
            "text/plain": [
              "                                             Name  ... All_Sales\n",
              "1                    Candace Kane's Candy Factory  ...      0.04\n",
              "2                                  The Munchables  ...      0.18\n",
              "3  Otome wa Oanesama Boku ni Koi Shiteru Portable  ...      0.02\n",
              "4                Deal or No Deal: Special Edition  ...      0.04\n",
              "5       Ben 10 Ultimate Alien: Cosmic Destruction  ...      0.25\n",
              "\n",
              "[5 rows x 10 columns]"
            ]
          },
          "metadata": {},
          "execution_count": 10
        }
      ]
    },
    {
      "cell_type": "markdown",
      "metadata": {
        "id": "w2rIuAnD4njW"
      },
      "source": [
        "## **3. 분석**"
      ]
    },
    {
      "cell_type": "code",
      "metadata": {
        "colab": {
          "base_uri": "https://localhost:8080/",
          "height": 421
        },
        "id": "mGB6uJEG9SR5",
        "outputId": "c452b02a-55eb-4dd7-857e-0a9cb167593c"
      },
      "source": [
        "# 각 나라의 게임 출고량을 장르로 그룹화 하기\n",
        "genre = game[['Genre', 'NA_Sales', 'EU_Sales', 'JP_Sales', 'Other_Sales']]\n",
        "genre.columns = ['장르', '북미 출고량', '유럽 출고량', '일본 출고량', '그외 국가 출고량']\n",
        "\n",
        "genre_group = genre.groupby(['장르']).mean()\n",
        "genre_group.reset_index(inplace = True)\n",
        "\n",
        "genre_group"
      ],
      "execution_count": 11,
      "outputs": [
        {
          "output_type": "execute_result",
          "data": {
            "text/html": [
              "<div>\n",
              "<style scoped>\n",
              "    .dataframe tbody tr th:only-of-type {\n",
              "        vertical-align: middle;\n",
              "    }\n",
              "\n",
              "    .dataframe tbody tr th {\n",
              "        vertical-align: top;\n",
              "    }\n",
              "\n",
              "    .dataframe thead th {\n",
              "        text-align: right;\n",
              "    }\n",
              "</style>\n",
              "<table border=\"1\" class=\"dataframe\">\n",
              "  <thead>\n",
              "    <tr style=\"text-align: right;\">\n",
              "      <th></th>\n",
              "      <th>장르</th>\n",
              "      <th>북미 출고량</th>\n",
              "      <th>유럽 출고량</th>\n",
              "      <th>일본 출고량</th>\n",
              "      <th>그외 국가 출고량</th>\n",
              "    </tr>\n",
              "  </thead>\n",
              "  <tbody>\n",
              "    <tr>\n",
              "      <th>0</th>\n",
              "      <td>Action</td>\n",
              "      <td>0.265046</td>\n",
              "      <td>0.158531</td>\n",
              "      <td>0.048333</td>\n",
              "      <td>0.056787</td>\n",
              "    </tr>\n",
              "    <tr>\n",
              "      <th>1</th>\n",
              "      <td>Adventure</td>\n",
              "      <td>0.080276</td>\n",
              "      <td>0.050205</td>\n",
              "      <td>0.040907</td>\n",
              "      <td>0.013170</td>\n",
              "    </tr>\n",
              "    <tr>\n",
              "      <th>2</th>\n",
              "      <td>Fighting</td>\n",
              "      <td>0.263892</td>\n",
              "      <td>0.119641</td>\n",
              "      <td>0.104359</td>\n",
              "      <td>0.043293</td>\n",
              "    </tr>\n",
              "    <tr>\n",
              "      <th>3</th>\n",
              "      <td>Misc</td>\n",
              "      <td>0.234819</td>\n",
              "      <td>0.123825</td>\n",
              "      <td>0.061975</td>\n",
              "      <td>0.043212</td>\n",
              "    </tr>\n",
              "    <tr>\n",
              "      <th>4</th>\n",
              "      <td>Platform</td>\n",
              "      <td>0.510172</td>\n",
              "      <td>0.229817</td>\n",
              "      <td>0.149519</td>\n",
              "      <td>0.058935</td>\n",
              "    </tr>\n",
              "    <tr>\n",
              "      <th>5</th>\n",
              "      <td>Puzzle</td>\n",
              "      <td>0.214806</td>\n",
              "      <td>0.089170</td>\n",
              "      <td>0.099364</td>\n",
              "      <td>0.021979</td>\n",
              "    </tr>\n",
              "    <tr>\n",
              "      <th>6</th>\n",
              "      <td>Racing</td>\n",
              "      <td>0.290976</td>\n",
              "      <td>0.192797</td>\n",
              "      <td>0.046202</td>\n",
              "      <td>0.062765</td>\n",
              "    </tr>\n",
              "    <tr>\n",
              "      <th>7</th>\n",
              "      <td>Role-Playing</td>\n",
              "      <td>0.217584</td>\n",
              "      <td>0.124976</td>\n",
              "      <td>0.234082</td>\n",
              "      <td>0.038724</td>\n",
              "    </tr>\n",
              "    <tr>\n",
              "      <th>8</th>\n",
              "      <td>Shooter</td>\n",
              "      <td>0.448812</td>\n",
              "      <td>0.242367</td>\n",
              "      <td>0.029828</td>\n",
              "      <td>0.079578</td>\n",
              "    </tr>\n",
              "    <tr>\n",
              "      <th>9</th>\n",
              "      <td>Simulation</td>\n",
              "      <td>0.214456</td>\n",
              "      <td>0.133558</td>\n",
              "      <td>0.075106</td>\n",
              "      <td>0.037021</td>\n",
              "    </tr>\n",
              "    <tr>\n",
              "      <th>10</th>\n",
              "      <td>Sports</td>\n",
              "      <td>0.290239</td>\n",
              "      <td>0.161361</td>\n",
              "      <td>0.058617</td>\n",
              "      <td>0.057569</td>\n",
              "    </tr>\n",
              "    <tr>\n",
              "      <th>11</th>\n",
              "      <td>Strategy</td>\n",
              "      <td>0.101390</td>\n",
              "      <td>0.066996</td>\n",
              "      <td>0.073393</td>\n",
              "      <td>0.016786</td>\n",
              "    </tr>\n",
              "  </tbody>\n",
              "</table>\n",
              "</div>"
            ],
            "text/plain": [
              "              장르    북미 출고량    유럽 출고량    일본 출고량  그외 국가 출고량\n",
              "0         Action  0.265046  0.158531  0.048333   0.056787\n",
              "1      Adventure  0.080276  0.050205  0.040907   0.013170\n",
              "2       Fighting  0.263892  0.119641  0.104359   0.043293\n",
              "3           Misc  0.234819  0.123825  0.061975   0.043212\n",
              "4       Platform  0.510172  0.229817  0.149519   0.058935\n",
              "5         Puzzle  0.214806  0.089170  0.099364   0.021979\n",
              "6         Racing  0.290976  0.192797  0.046202   0.062765\n",
              "7   Role-Playing  0.217584  0.124976  0.234082   0.038724\n",
              "8        Shooter  0.448812  0.242367  0.029828   0.079578\n",
              "9     Simulation  0.214456  0.133558  0.075106   0.037021\n",
              "10        Sports  0.290239  0.161361  0.058617   0.057569\n",
              "11      Strategy  0.101390  0.066996  0.073393   0.016786"
            ]
          },
          "metadata": {},
          "execution_count": 11
        }
      ]
    },
    {
      "cell_type": "code",
      "metadata": {
        "colab": {
          "base_uri": "https://localhost:8080/",
          "height": 351
        },
        "id": "fnIDtJjzW29K",
        "outputId": "0b24e083-f79b-474c-b410-97f70388874b"
      },
      "source": [
        "# 장르별 각 나라의 게임 출고량 시각화 2\n",
        "\n",
        "fig, ax = plt.subplots(2, 2, figsize = (25, 10))\n",
        "\n",
        "ax[0, 0].bar(genre_group['장르'], genre_group['북미 출고량'])\n",
        "ax[0, 0].set_title('장르별 북미 출고량')\n",
        "\n",
        "ax[0, 1].bar(genre_group['장르'], genre_group['유럽 출고량'])\n",
        "ax[0, 1].set_title('장르별 유럽 출고량')\n",
        "\n",
        "ax[1, 0].bar(genre_group['장르'], genre_group['일본 출고량'])\n",
        "ax[1, 0].set_title('장르별 일본 출고량')\n",
        "\n",
        "ax[1, 1].bar(genre_group['장르'], genre_group['그외 국가 출고량'])\n",
        "ax[1, 1].set_title('장르별 그외 국가 출고량')\n",
        "\n",
        "plt.show()"
      ],
      "execution_count": 12,
      "outputs": [
        {
          "output_type": "display_data",
          "data": {
            "image/png": "[encoded data removed]",
            "text/plain": [
              "<Figure size 1800x720 with 4 Axes>"
            ]
          },
          "metadata": {
            "needs_background": "light"
          }
        }
      ]
    },
    {
      "cell_type": "code",
      "metadata": {
        "colab": {
          "base_uri": "https://localhost:8080/",
          "height": 523
        },
        "id": "QMrXYtiwgKQi",
        "outputId": "b51ae914-1f1f-4a0a-8cba-6a7842b978cb"
      },
      "source": [
        "# 각 나라의 게임 출고량 시각화\n",
        "\n",
        "plt.figure(figsize = (12, 8))\n",
        "plt.plot(game.groupby('Year')['All_Sales'].sum())\n",
        "plt.title('연도별 게임 전체 출고량', fontsize = 20)\n",
        "plt.xlabel('연도', fontsize = 13)\n",
        "plt.ylabel('출고량', fontsize = 13)\n",
        "\n",
        "plt.show();"
      ],
      "execution_count": 13,
      "outputs": [
        {
          "output_type": "display_data",
          "data": {
            "image/png": "[encoded data removed]",
            "text/plain": [
              "<Figure size 864x576 with 1 Axes>"
            ]
          },
          "metadata": {
            "needs_background": "light"
          }
        }
      ]
    },
    {
      "cell_type": "code",
      "metadata": {
        "colab": {
          "base_uri": "https://localhost:8080/",
          "height": 445
        },
        "id": "BIoK7lIglQ7e",
        "outputId": "04787e88-56c5-4181-d0e9-0a5638c9f53b"
      },
      "source": [
        "# 연도별 게임 장르의 출고량 시각화\n",
        "genre_trend = list(game['Genre'].unique())\n",
        "\n",
        "genre_trend.sort()\n",
        "\n",
        "fig2, ax2 = plt.subplots(3, 4, figsize=(25, 13))\n",
        "\n",
        "for i, ge in enumerate(genre_trend) :\n",
        "    if i <= 3 :\n",
        "        r = 0\n",
        "    elif i > 3 and i <= 7 :\n",
        "        r = 1\n",
        "    elif i > 7 and i <= 11 :\n",
        "        r = 2\n",
        "\n",
        "    j = i % 4\n",
        "\n",
        "    df = game[game['Genre'] == ge]\n",
        "\n",
        "    df2 = df.groupby('Year')['All_Sales'].sum()\n",
        "\n",
        "    ax2[r,j].plot(df2)\n",
        "    ax2[r,j].set_title(ge)\n",
        "    ax2[r,j].set_ylim(0, 150)\n",
        "plt.show()"
      ],
      "execution_count": 14,
      "outputs": [
        {
          "output_type": "display_data",
          "data": {
            "image/png": "[encoded data removed]",
            "text/plain": [
              "<Figure size 1800x936 with 12 Axes>"
            ]
          },
          "metadata": {
            "needs_background": "light"
          }
        }
      ]
    },
    {
      "cell_type": "markdown",
      "metadata": {
        "id": "3DP1me1B8AYk"
      },
      "source": [
        "### **3. 출고량이 높은 게임에 대한 분석 및 시각화 프로세스**"
      ]
    },
    {
      "cell_type": "code",
      "metadata": {
        "colab": {
          "base_uri": "https://localhost:8080/"
        },
        "id": "dB3yT05F7mnk",
        "outputId": "3ae6faf2-b5b8-47ce-9448-c947155457f3"
      },
      "source": [
        "top_sales = game.copy()\n",
        "top_sales.index = top_sales['Name']\n",
        "\n",
        "print(top_sales['All_Sales'].nlargest(10)) # 출고량이 가장 높은 게임 TOP 10\n",
        "print(top_sales[top_sales['Year'] >= 2010]['All_Sales'].nlargest(10)) # 최근 10년간 출고량이 가장 높은 게임 TOP 10"
      ],
      "execution_count": 15,
      "outputs": [
        {
          "output_type": "stream",
          "name": "stdout",
          "text": [
            "Name\n",
            "Wii Sports                   82.74\n",
            "Super Mario Bros.            40.24\n",
            "Mario Kart Wii               35.83\n",
            "Wii Sports Resort            33.00\n",
            "Pokemon Red/Pokemon Blue     31.38\n",
            "Tetris                       30.26\n",
            "New Super Mario Bros.        30.01\n",
            "Wii Play                     29.01\n",
            "New Super Mario Bros. Wii    28.61\n",
            "Duck Hunt                    28.31\n",
            "Name: All_Sales, dtype: float64\n",
            "Name\n",
            "Kinect Adventures!                21.82\n",
            "Grand Theft Auto V                21.39\n",
            "Grand Theft Auto V                16.38\n",
            "Pokemon Black/Pokemon White       15.32\n",
            "Call of Duty: Modern Warfare 3    14.76\n",
            "Call of Duty: Black Ops           14.64\n",
            "Call of Duty: Black Ops 3         14.24\n",
            "Call of Duty: Black Ops II        14.04\n",
            "Call of Duty: Black Ops II        13.74\n",
            "Call of Duty: Modern Warfare 3    13.47\n",
            "Name: All_Sales, dtype: float64\n"
          ]
        }
      ]
    },
    {
      "cell_type": "code",
      "metadata": {
        "colab": {
          "base_uri": "https://localhost:8080/",
          "height": 442
        },
        "id": "1t2RepVjpps6",
        "outputId": "0ba5596a-033f-4dae-9021-58b90aeaf74e"
      },
      "source": [
        "# 최근 10년간 출고량이 높은 게임 장르\n",
        "\n",
        "genre_sales = top_sales[top_sales['Year'] >= 2010].iloc[:100]['Genre'].value_counts()\n",
        "genre_sales = pd.DataFrame(genre_sales)\n",
        "genre_sales.reset_index(inplace = True)\n",
        "genre_sales.columns = ['장르', '합계']\n",
        "\n",
        "plt.figure(figsize=(12, 7))\n",
        "\n",
        "sns.barplot(\n",
        "    x = '장르',\n",
        "    y = '합계',\n",
        "    data = genre_sales,\n",
        "    hue = '장르'\n",
        ");"
      ],
      "execution_count": 16,
      "outputs": [
        {
          "output_type": "display_data",
          "data": {
            "image/png": "[encoded data removed]",
            "text/plain": [
              "<Figure size 864x504 with 1 Axes>"
            ]
          },
          "metadata": {
            "needs_background": "light"
          }
        }
      ]
    },
    {
      "cell_type": "code",
      "metadata": {
        "colab": {
          "base_uri": "https://localhost:8080/",
          "height": 442
        },
        "id": "steDqR991-8H",
        "outputId": "f4071de6-574c-4c5f-8001-9f116c2efeb3"
      },
      "source": [
        "# 최근 10년간 장르별 출고량 평균 순위\n",
        "\n",
        "Genre_trend = pd.DataFrame(top_sales[top_sales['Year']>=2010].groupby('Genre')['All_Sales'].mean())\n",
        "Genre_trend.reset_index(inplace = True)\n",
        "Genre_trend.sort_values('All_Sales', ascending = False, inplace = True)\n",
        "\n",
        "plt.figure(figsize = (12, 7))\n",
        "\n",
        "sns.barplot(\n",
        "    x='Genre',\n",
        "    y='All_Sales',\n",
        "    data=Genre_trend\n",
        ");"
      ],
      "execution_count": 17,
      "outputs": [
        {
          "output_type": "display_data",
          "data": {
            "image/png": "[encoded data removed]",
            "text/plain": [
              "<Figure size 864x504 with 1 Axes>"
            ]
          },
          "metadata": {
            "needs_background": "light"
          }
        }
      ]
    },
    {
      "cell_type": "code",
      "metadata": {
        "colab": {
          "base_uri": "https://localhost:8080/"
        },
        "id": "J3BtzI443HvX",
        "outputId": "1cc6daf8-1d17-4ca4-b985-41a5e14c2a04"
      },
      "source": [
        "# 출고량 상위 3 Genre 평균 비교, Shooter, Platform, Sports 세 장르가 과연 sales에서 유의미한 차이가 있을까?(ANOVA)\n",
        "from scipy import stats\n",
        "\n",
        "trend = top_sales[top_sales['Year'] >= 2010]\n",
        "\n",
        "group1 = trend[trend['Genre'] == 'Shooter']['All_Sales']\n",
        "group2 = trend[trend['Genre'] == 'Platform']['All_Sales']\n",
        "group3 = trend[trend['Genre'] == 'Sports']['All_Sales']\n",
        "\n",
        "#Shooter, Platform, Sports ANOVA\n",
        "p_value_ano = stats.f_oneway(group1, group2, group3).pvalue\n",
        "\n",
        "if p_value_ano >= 0.05:\n",
        "    print('Shooter, Platform, Sports 세 그룹간 평균이 유의미하게 차이나지 않습니다.')\n",
        "else:\n",
        "    print('Shooter, Platform, Sports 세 그룹간 평균이 적어도 하나는 유의미하게 차이납니다.')"
      ],
      "execution_count": 18,
      "outputs": [
        {
          "output_type": "stream",
          "name": "stdout",
          "text": [
            "Shooter, Platform, Sports 세 그룹간 평균이 적어도 하나는 유의미하게 차이납니다.\n"
          ]
        }
      ]
    },
    {
      "cell_type": "code",
      "metadata": {
        "colab": {
          "base_uri": "https://localhost:8080/"
        },
        "id": "sp2bheVR3tvs",
        "outputId": "f8268b67-f276-4d34-c017-5cf235b37e92"
      },
      "source": [
        "# Shooter, Platform t-test, 두 데이터는 연관성이 없다고 판단\n",
        "\n",
        "#등분산 test\n",
        "p_value_var = stats.levene(group1, group2).pvalue\n",
        "\n",
        "if p_value_var >= 0.05:\n",
        "    print('Shooter, Platform 두 그룹은 등분산이다.')\n",
        "else:\n",
        "    print('Shooter, Platform 두 그룹은 등분산이 아니다.')\n",
        "\n",
        "#독립 t-test, 단측 검정\n",
        "p_value_t = stats.ttest_ind(group1, group2, equal_var = False, alternative = 'greater').pvalue\n",
        "\n",
        "if p_value_t >= 0.05:\n",
        "    print('Shooter, Platform 두 그룹간 평균이 유의미하게 차이나지 않습니다.')\n",
        "else:\n",
        "    print('Shooter, Platform 두 그룹간 평균이 Shooter가 더 크다.')"
      ],
      "execution_count": 19,
      "outputs": [
        {
          "output_type": "stream",
          "name": "stdout",
          "text": [
            "Shooter, Platform 두 그룹은 등분산이다.\n",
            "Shooter, Platform 두 그룹간 평균이 Shooter가 더 크다.\n"
          ]
        }
      ]
    },
    {
      "cell_type": "code",
      "metadata": {
        "colab": {
          "base_uri": "https://localhost:8080/"
        },
        "id": "YsFdckU044JE",
        "outputId": "1189ed21-5388-47a2-b4a2-312852a93736"
      },
      "source": [
        "# 최근 shooter를 통한 CI 계산\n",
        "\n",
        "avg = np.mean(group1)\n",
        "se = np.std(group1)/np.sqrt(len(group1))\n",
        "\n",
        "ci = stats.t.interval(.95, loc = avg, scale = se, df = len(group1)-1)\n",
        "\n",
        "print('Shooter 평균 출고량의 confidence interval : ', (round(ci[0],3), round(ci[1], 3)))"
      ],
      "execution_count": 20,
      "outputs": [
        {
          "output_type": "stream",
          "name": "stdout",
          "text": [
            "Shooter 평균 출고량의 confidence interval :  (0.943, 1.4)\n"
          ]
        }
      ]
    },
    {
      "cell_type": "code",
      "metadata": {
        "colab": {
          "base_uri": "https://localhost:8080/",
          "height": 388
        },
        "id": "Hrmm4JrB494F",
        "outputId": "6413305f-61f2-4adb-81d6-f6aa17844abe"
      },
      "source": [
        "# 최근 평균 출고량이 가장 높은 플랫폼\n",
        "\n",
        "Platform_total_trend = pd.DataFrame(top_sales[top_sales['Year'] >= 2010].groupby('Platform')['All_Sales'].mean())\n",
        "Platform_total_trend.reset_index(inplace = True)\n",
        "Platform_total_trend.sort_values('All_Sales', ascending = False, inplace = True)\n",
        "\n",
        "plt.figure(figsize = (10, 6))\n",
        "\n",
        "sns.barplot(\n",
        "    x='Platform',\n",
        "    y='All_Sales',\n",
        "    data=Platform_total_trend\n",
        ");"
      ],
      "execution_count": 21,
      "outputs": [
        {
          "output_type": "display_data",
          "data": {
            "image/png": "[encoded data removed]",
            "text/plain": [
              "<Figure size 720x432 with 1 Axes>"
            ]
          },
          "metadata": {
            "needs_background": "light"
          }
        }
      ]
    },
    {
      "cell_type": "code",
      "metadata": {
        "colab": {
          "base_uri": "https://localhost:8080/"
        },
        "id": "hrtx4zzZ5USJ",
        "outputId": "c3b64893-4a1f-4798-aece-b3507c904188"
      },
      "source": [
        "# PS4에서 shooter 게임을 잘 만들까??\n",
        "\n",
        "PS4 = top_sales[top_sales['Platform'] == 'PS4']\n",
        "\n",
        "PS4['Genre'].value_counts()"
      ],
      "execution_count": 22,
      "outputs": [
        {
          "output_type": "execute_result",
          "data": {
            "text/plain": [
              "Action          121\n",
              "Role-Playing     47\n",
              "Sports           43\n",
              "Shooter          34\n",
              "Adventure        19\n",
              "Fighting         17\n",
              "Racing           17\n",
              "Misc             15\n",
              "Platform         11\n",
              "Simulation        5\n",
              "Strategy          5\n",
              "Puzzle            1\n",
              "Name: Genre, dtype: int64"
            ]
          },
          "metadata": {},
          "execution_count": 22
        }
      ]
    },
    {
      "cell_type": "code",
      "metadata": {
        "colab": {
          "base_uri": "https://localhost:8080/"
        },
        "id": "GZ91GQDP5aug",
        "outputId": "826fadca-f902-4e43-e326-72f7f22cd96b"
      },
      "source": [
        "PS4.groupby('Genre')['All_Sales'].sum().sort_values(ascending=False)"
      ],
      "execution_count": 23,
      "outputs": [
        {
          "output_type": "execute_result",
          "data": {
            "text/plain": [
              "Genre\n",
              "Action          84.70\n",
              "Shooter         75.32\n",
              "Sports          50.10\n",
              "Role-Playing    25.78\n",
              "Racing          11.57\n",
              "Fighting         8.04\n",
              "Misc             7.37\n",
              "Platform         6.99\n",
              "Adventure        4.70\n",
              "Simulation       0.77\n",
              "Strategy         0.42\n",
              "Puzzle           0.02\n",
              "Name: All_Sales, dtype: float64"
            ]
          },
          "metadata": {},
          "execution_count": 23
        }
      ]
    },
    {
      "cell_type": "code",
      "metadata": {
        "colab": {
          "base_uri": "https://localhost:8080/"
        },
        "id": "859YG5ad5elM",
        "outputId": "114f8ad6-b392-483e-c7cc-ef3064dedecb"
      },
      "source": [
        "PS4.groupby('Genre')['All_Sales'].mean().sort_values(ascending=False)"
      ],
      "execution_count": 24,
      "outputs": [
        {
          "output_type": "execute_result",
          "data": {
            "text/plain": [
              "Genre\n",
              "Shooter         2.215294\n",
              "Sports          1.165116\n",
              "Action          0.700000\n",
              "Racing          0.680588\n",
              "Platform        0.635455\n",
              "Role-Playing    0.548511\n",
              "Misc            0.491333\n",
              "Fighting        0.472941\n",
              "Adventure       0.247368\n",
              "Simulation      0.154000\n",
              "Strategy        0.084000\n",
              "Puzzle          0.020000\n",
              "Name: All_Sales, dtype: float64"
            ]
          },
          "metadata": {},
          "execution_count": 24
        }
      ]
    },
    {
      "cell_type": "code",
      "metadata": {
        "id": "MUtC5ASz5iVW"
      },
      "source": [
        "# shooter을 가장 잘 지원해줄 수 있는 platform은??\n",
        "\n",
        "shooter_platform = pd.DataFrame(top_sales[top_sales['Genre'] == 'Shooter'].groupby('Platform')['All_Sales'].sum().sort_values(ascending=False))\n",
        "shooter_platform.reset_index(inplace = True)"
      ],
      "execution_count": 25,
      "outputs": []
    },
    {
      "cell_type": "code",
      "metadata": {
        "colab": {
          "base_uri": "https://localhost:8080/",
          "height": 388
        },
        "id": "Galy8NP85oOA",
        "outputId": "6438c553-9d56-4fbc-9ccf-58e42871254c"
      },
      "source": [
        "plt.figure(figsize=(10, 6))\n",
        "\n",
        "sns.barplot(\n",
        "    x='Platform',\n",
        "    y='All_Sales',\n",
        "    data=shooter_platform\n",
        ");"
      ],
      "execution_count": 26,
      "outputs": [
        {
          "output_type": "display_data",
          "data": {
            "image/png": "[encoded data removed]",
            "text/plain": [
              "<Figure size 720x432 with 1 Axes>"
            ]
          },
          "metadata": {
            "needs_background": "light"
          }
        }
      ]
    },
    {
      "cell_type": "code",
      "metadata": {
        "colab": {
          "base_uri": "https://localhost:8080/"
        },
        "id": "W3otaSXn5se2",
        "outputId": "e15d5eb6-a4f0-416e-c17f-29b114b87f59"
      },
      "source": [
        "# 두 변수간 연관성\n",
        "\n",
        "cross_chi2  = game[['Genre', 'Platform', 'All_Sales']]\n",
        "\n",
        "cross_chi2 = pd.crosstab(cross_chi2['Genre'], cross_chi2['Platform'])\n",
        "\n",
        "p_value_chi2 = stats.chi2_contingency(cross_chi2, correction = False)[1]\n",
        "\n",
        "if p_value_chi2 >= 0.05:\n",
        "    print('Genre와 Platform 사이의 연관성이 존재한다.')\n",
        "else:\n",
        "    print('Genre와 Platform 사이의 연관성이 존재하지 않는다.')"
      ],
      "execution_count": 27,
      "outputs": [
        {
          "output_type": "stream",
          "name": "stdout",
          "text": [
            "Genre와 Platform 사이의 연관성이 존재하지 않는다.\n"
          ]
        }
      ]
    },
    {
      "cell_type": "code",
      "metadata": {
        "colab": {
          "base_uri": "https://localhost:8080/",
          "height": 489
        },
        "id": "DRTpyuR951Ry",
        "outputId": "909d6c2b-f32e-4542-f7f7-ddff6ba61420"
      },
      "source": [
        "cross_chi2"
      ],
      "execution_count": 28,
      "outputs": [
        {
          "output_type": "execute_result",
          "data": {
            "text/html": [
              "<div>\n",
              "<style scoped>\n",
              "    .dataframe tbody tr th:only-of-type {\n",
              "        vertical-align: middle;\n",
              "    }\n",
              "\n",
              "    .dataframe tbody tr th {\n",
              "        vertical-align: top;\n",
              "    }\n",
              "\n",
              "    .dataframe thead th {\n",
              "        text-align: right;\n",
              "    }\n",
              "</style>\n",
              "<table border=\"1\" class=\"dataframe\">\n",
              "  <thead>\n",
              "    <tr style=\"text-align: right;\">\n",
              "      <th>Platform</th>\n",
              "      <th>2600</th>\n",
              "      <th>3DO</th>\n",
              "      <th>3DS</th>\n",
              "      <th>DC</th>\n",
              "      <th>DS</th>\n",
              "      <th>GB</th>\n",
              "      <th>GBA</th>\n",
              "      <th>GC</th>\n",
              "      <th>GEN</th>\n",
              "      <th>GG</th>\n",
              "      <th>N64</th>\n",
              "      <th>NES</th>\n",
              "      <th>NG</th>\n",
              "      <th>PC</th>\n",
              "      <th>PCFX</th>\n",
              "      <th>PS</th>\n",
              "      <th>PS2</th>\n",
              "      <th>PS3</th>\n",
              "      <th>PS4</th>\n",
              "      <th>PSP</th>\n",
              "      <th>PSV</th>\n",
              "      <th>SAT</th>\n",
              "      <th>SCD</th>\n",
              "      <th>SNES</th>\n",
              "      <th>TG16</th>\n",
              "      <th>WS</th>\n",
              "      <th>Wii</th>\n",
              "      <th>WiiU</th>\n",
              "      <th>X360</th>\n",
              "      <th>XB</th>\n",
              "      <th>XOne</th>\n",
              "    </tr>\n",
              "    <tr>\n",
              "      <th>Genre</th>\n",
              "      <th></th>\n",
              "      <th></th>\n",
              "      <th></th>\n",
              "      <th></th>\n",
              "      <th></th>\n",
              "      <th></th>\n",
              "      <th></th>\n",
              "      <th></th>\n",
              "      <th></th>\n",
              "      <th></th>\n",
              "      <th></th>\n",
              "      <th></th>\n",
              "      <th></th>\n",
              "      <th></th>\n",
              "      <th></th>\n",
              "      <th></th>\n",
              "      <th></th>\n",
              "      <th></th>\n",
              "      <th></th>\n",
              "      <th></th>\n",
              "      <th></th>\n",
              "      <th></th>\n",
              "      <th></th>\n",
              "      <th></th>\n",
              "      <th></th>\n",
              "      <th></th>\n",
              "      <th></th>\n",
              "      <th></th>\n",
              "      <th></th>\n",
              "      <th></th>\n",
              "      <th></th>\n",
              "    </tr>\n",
              "  </thead>\n",
              "  <tbody>\n",
              "    <tr>\n",
              "      <th>Action</th>\n",
              "      <td>55</td>\n",
              "      <td>0</td>\n",
              "      <td>180</td>\n",
              "      <td>3</td>\n",
              "      <td>335</td>\n",
              "      <td>6</td>\n",
              "      <td>162</td>\n",
              "      <td>98</td>\n",
              "      <td>3</td>\n",
              "      <td>0</td>\n",
              "      <td>36</td>\n",
              "      <td>13</td>\n",
              "      <td>0</td>\n",
              "      <td>160</td>\n",
              "      <td>0</td>\n",
              "      <td>153</td>\n",
              "      <td>344</td>\n",
              "      <td>369</td>\n",
              "      <td>121</td>\n",
              "      <td>216</td>\n",
              "      <td>141</td>\n",
              "      <td>3</td>\n",
              "      <td>0</td>\n",
              "      <td>12</td>\n",
              "      <td>0</td>\n",
              "      <td>0</td>\n",
              "      <td>229</td>\n",
              "      <td>63</td>\n",
              "      <td>318</td>\n",
              "      <td>152</td>\n",
              "      <td>68</td>\n",
              "    </tr>\n",
              "    <tr>\n",
              "      <th>Adventure</th>\n",
              "      <td>1</td>\n",
              "      <td>1</td>\n",
              "      <td>36</td>\n",
              "      <td>11</td>\n",
              "      <td>237</td>\n",
              "      <td>5</td>\n",
              "      <td>35</td>\n",
              "      <td>20</td>\n",
              "      <td>2</td>\n",
              "      <td>0</td>\n",
              "      <td>4</td>\n",
              "      <td>1</td>\n",
              "      <td>0</td>\n",
              "      <td>65</td>\n",
              "      <td>0</td>\n",
              "      <td>66</td>\n",
              "      <td>195</td>\n",
              "      <td>72</td>\n",
              "      <td>19</td>\n",
              "      <td>213</td>\n",
              "      <td>84</td>\n",
              "      <td>26</td>\n",
              "      <td>0</td>\n",
              "      <td>4</td>\n",
              "      <td>1</td>\n",
              "      <td>0</td>\n",
              "      <td>83</td>\n",
              "      <td>3</td>\n",
              "      <td>47</td>\n",
              "      <td>26</td>\n",
              "      <td>11</td>\n",
              "    </tr>\n",
              "    <tr>\n",
              "      <th>Fighting</th>\n",
              "      <td>1</td>\n",
              "      <td>0</td>\n",
              "      <td>14</td>\n",
              "      <td>12</td>\n",
              "      <td>36</td>\n",
              "      <td>0</td>\n",
              "      <td>23</td>\n",
              "      <td>42</td>\n",
              "      <td>5</td>\n",
              "      <td>0</td>\n",
              "      <td>29</td>\n",
              "      <td>4</td>\n",
              "      <td>11</td>\n",
              "      <td>5</td>\n",
              "      <td>0</td>\n",
              "      <td>108</td>\n",
              "      <td>146</td>\n",
              "      <td>76</td>\n",
              "      <td>17</td>\n",
              "      <td>73</td>\n",
              "      <td>16</td>\n",
              "      <td>31</td>\n",
              "      <td>0</td>\n",
              "      <td>25</td>\n",
              "      <td>0</td>\n",
              "      <td>0</td>\n",
              "      <td>41</td>\n",
              "      <td>5</td>\n",
              "      <td>64</td>\n",
              "      <td>44</td>\n",
              "      <td>7</td>\n",
              "    </tr>\n",
              "    <tr>\n",
              "      <th>Misc</th>\n",
              "      <td>5</td>\n",
              "      <td>0</td>\n",
              "      <td>53</td>\n",
              "      <td>0</td>\n",
              "      <td>388</td>\n",
              "      <td>8</td>\n",
              "      <td>86</td>\n",
              "      <td>35</td>\n",
              "      <td>1</td>\n",
              "      <td>0</td>\n",
              "      <td>17</td>\n",
              "      <td>2</td>\n",
              "      <td>0</td>\n",
              "      <td>22</td>\n",
              "      <td>0</td>\n",
              "      <td>76</td>\n",
              "      <td>217</td>\n",
              "      <td>121</td>\n",
              "      <td>15</td>\n",
              "      <td>104</td>\n",
              "      <td>24</td>\n",
              "      <td>15</td>\n",
              "      <td>2</td>\n",
              "      <td>17</td>\n",
              "      <td>0</td>\n",
              "      <td>0</td>\n",
              "      <td>270</td>\n",
              "      <td>21</td>\n",
              "      <td>122</td>\n",
              "      <td>45</td>\n",
              "      <td>15</td>\n",
              "    </tr>\n",
              "    <tr>\n",
              "      <th>Platform</th>\n",
              "      <td>9</td>\n",
              "      <td>0</td>\n",
              "      <td>28</td>\n",
              "      <td>2</td>\n",
              "      <td>89</td>\n",
              "      <td>18</td>\n",
              "      <td>139</td>\n",
              "      <td>73</td>\n",
              "      <td>7</td>\n",
              "      <td>1</td>\n",
              "      <td>30</td>\n",
              "      <td>28</td>\n",
              "      <td>0</td>\n",
              "      <td>11</td>\n",
              "      <td>0</td>\n",
              "      <td>64</td>\n",
              "      <td>101</td>\n",
              "      <td>35</td>\n",
              "      <td>11</td>\n",
              "      <td>35</td>\n",
              "      <td>10</td>\n",
              "      <td>5</td>\n",
              "      <td>1</td>\n",
              "      <td>26</td>\n",
              "      <td>0</td>\n",
              "      <td>0</td>\n",
              "      <td>57</td>\n",
              "      <td>16</td>\n",
              "      <td>24</td>\n",
              "      <td>49</td>\n",
              "      <td>4</td>\n",
              "    </tr>\n",
              "    <tr>\n",
              "      <th>Puzzle</th>\n",
              "      <td>8</td>\n",
              "      <td>1</td>\n",
              "      <td>19</td>\n",
              "      <td>0</td>\n",
              "      <td>235</td>\n",
              "      <td>15</td>\n",
              "      <td>39</td>\n",
              "      <td>11</td>\n",
              "      <td>0</td>\n",
              "      <td>0</td>\n",
              "      <td>12</td>\n",
              "      <td>14</td>\n",
              "      <td>0</td>\n",
              "      <td>25</td>\n",
              "      <td>0</td>\n",
              "      <td>32</td>\n",
              "      <td>18</td>\n",
              "      <td>2</td>\n",
              "      <td>1</td>\n",
              "      <td>43</td>\n",
              "      <td>3</td>\n",
              "      <td>5</td>\n",
              "      <td>0</td>\n",
              "      <td>13</td>\n",
              "      <td>0</td>\n",
              "      <td>0</td>\n",
              "      <td>53</td>\n",
              "      <td>4</td>\n",
              "      <td>6</td>\n",
              "      <td>7</td>\n",
              "      <td>0</td>\n",
              "    </tr>\n",
              "    <tr>\n",
              "      <th>Racing</th>\n",
              "      <td>4</td>\n",
              "      <td>0</td>\n",
              "      <td>10</td>\n",
              "      <td>6</td>\n",
              "      <td>66</td>\n",
              "      <td>2</td>\n",
              "      <td>64</td>\n",
              "      <td>60</td>\n",
              "      <td>1</td>\n",
              "      <td>0</td>\n",
              "      <td>56</td>\n",
              "      <td>4</td>\n",
              "      <td>0</td>\n",
              "      <td>56</td>\n",
              "      <td>0</td>\n",
              "      <td>143</td>\n",
              "      <td>212</td>\n",
              "      <td>90</td>\n",
              "      <td>17</td>\n",
              "      <td>65</td>\n",
              "      <td>11</td>\n",
              "      <td>8</td>\n",
              "      <td>1</td>\n",
              "      <td>9</td>\n",
              "      <td>0</td>\n",
              "      <td>0</td>\n",
              "      <td>91</td>\n",
              "      <td>3</td>\n",
              "      <td>100</td>\n",
              "      <td>121</td>\n",
              "      <td>19</td>\n",
              "    </tr>\n",
              "    <tr>\n",
              "      <th>Role-Playing</th>\n",
              "      <td>0</td>\n",
              "      <td>0</td>\n",
              "      <td>84</td>\n",
              "      <td>4</td>\n",
              "      <td>196</td>\n",
              "      <td>21</td>\n",
              "      <td>72</td>\n",
              "      <td>25</td>\n",
              "      <td>3</td>\n",
              "      <td>0</td>\n",
              "      <td>7</td>\n",
              "      <td>11</td>\n",
              "      <td>0</td>\n",
              "      <td>103</td>\n",
              "      <td>1</td>\n",
              "      <td>96</td>\n",
              "      <td>182</td>\n",
              "      <td>117</td>\n",
              "      <td>47</td>\n",
              "      <td>190</td>\n",
              "      <td>82</td>\n",
              "      <td>17</td>\n",
              "      <td>1</td>\n",
              "      <td>50</td>\n",
              "      <td>0</td>\n",
              "      <td>4</td>\n",
              "      <td>35</td>\n",
              "      <td>6</td>\n",
              "      <td>75</td>\n",
              "      <td>23</td>\n",
              "      <td>13</td>\n",
              "    </tr>\n",
              "    <tr>\n",
              "      <th>Shooter</th>\n",
              "      <td>22</td>\n",
              "      <td>0</td>\n",
              "      <td>6</td>\n",
              "      <td>3</td>\n",
              "      <td>42</td>\n",
              "      <td>1</td>\n",
              "      <td>40</td>\n",
              "      <td>48</td>\n",
              "      <td>1</td>\n",
              "      <td>0</td>\n",
              "      <td>24</td>\n",
              "      <td>7</td>\n",
              "      <td>0</td>\n",
              "      <td>145</td>\n",
              "      <td>0</td>\n",
              "      <td>96</td>\n",
              "      <td>158</td>\n",
              "      <td>155</td>\n",
              "      <td>34</td>\n",
              "      <td>37</td>\n",
              "      <td>5</td>\n",
              "      <td>22</td>\n",
              "      <td>0</td>\n",
              "      <td>10</td>\n",
              "      <td>1</td>\n",
              "      <td>0</td>\n",
              "      <td>60</td>\n",
              "      <td>10</td>\n",
              "      <td>197</td>\n",
              "      <td>123</td>\n",
              "      <td>33</td>\n",
              "    </tr>\n",
              "    <tr>\n",
              "      <th>Simulation</th>\n",
              "      <td>1</td>\n",
              "      <td>1</td>\n",
              "      <td>28</td>\n",
              "      <td>1</td>\n",
              "      <td>279</td>\n",
              "      <td>5</td>\n",
              "      <td>18</td>\n",
              "      <td>12</td>\n",
              "      <td>0</td>\n",
              "      <td>0</td>\n",
              "      <td>10</td>\n",
              "      <td>0</td>\n",
              "      <td>0</td>\n",
              "      <td>111</td>\n",
              "      <td>0</td>\n",
              "      <td>60</td>\n",
              "      <td>89</td>\n",
              "      <td>30</td>\n",
              "      <td>5</td>\n",
              "      <td>29</td>\n",
              "      <td>3</td>\n",
              "      <td>7</td>\n",
              "      <td>0</td>\n",
              "      <td>9</td>\n",
              "      <td>0</td>\n",
              "      <td>0</td>\n",
              "      <td>84</td>\n",
              "      <td>1</td>\n",
              "      <td>36</td>\n",
              "      <td>24</td>\n",
              "      <td>3</td>\n",
              "    </tr>\n",
              "    <tr>\n",
              "      <th>Sports</th>\n",
              "      <td>9</td>\n",
              "      <td>0</td>\n",
              "      <td>25</td>\n",
              "      <td>10</td>\n",
              "      <td>146</td>\n",
              "      <td>9</td>\n",
              "      <td>88</td>\n",
              "      <td>106</td>\n",
              "      <td>3</td>\n",
              "      <td>0</td>\n",
              "      <td>79</td>\n",
              "      <td>14</td>\n",
              "      <td>1</td>\n",
              "      <td>49</td>\n",
              "      <td>0</td>\n",
              "      <td>221</td>\n",
              "      <td>389</td>\n",
              "      <td>210</td>\n",
              "      <td>43</td>\n",
              "      <td>130</td>\n",
              "      <td>23</td>\n",
              "      <td>16</td>\n",
              "      <td>0</td>\n",
              "      <td>49</td>\n",
              "      <td>0</td>\n",
              "      <td>0</td>\n",
              "      <td>256</td>\n",
              "      <td>8</td>\n",
              "      <td>215</td>\n",
              "      <td>164</td>\n",
              "      <td>36</td>\n",
              "    </tr>\n",
              "    <tr>\n",
              "      <th>Strategy</th>\n",
              "      <td>0</td>\n",
              "      <td>0</td>\n",
              "      <td>15</td>\n",
              "      <td>0</td>\n",
              "      <td>78</td>\n",
              "      <td>7</td>\n",
              "      <td>18</td>\n",
              "      <td>11</td>\n",
              "      <td>1</td>\n",
              "      <td>0</td>\n",
              "      <td>9</td>\n",
              "      <td>0</td>\n",
              "      <td>0</td>\n",
              "      <td>183</td>\n",
              "      <td>0</td>\n",
              "      <td>70</td>\n",
              "      <td>70</td>\n",
              "      <td>22</td>\n",
              "      <td>5</td>\n",
              "      <td>58</td>\n",
              "      <td>7</td>\n",
              "      <td>18</td>\n",
              "      <td>1</td>\n",
              "      <td>15</td>\n",
              "      <td>0</td>\n",
              "      <td>2</td>\n",
              "      <td>25</td>\n",
              "      <td>3</td>\n",
              "      <td>27</td>\n",
              "      <td>21</td>\n",
              "      <td>3</td>\n",
              "    </tr>\n",
              "  </tbody>\n",
              "</table>\n",
              "</div>"
            ],
            "text/plain": [
              "Platform      2600  3DO  3DS  DC   DS  GB  ...  WS  Wii  WiiU  X360   XB  XOne\n",
              "Genre                                      ...                                \n",
              "Action          55    0  180   3  335   6  ...   0  229    63   318  152    68\n",
              "Adventure        1    1   36  11  237   5  ...   0   83     3    47   26    11\n",
              "Fighting         1    0   14  12   36   0  ...   0   41     5    64   44     7\n",
              "Misc             5    0   53   0  388   8  ...   0  270    21   122   45    15\n",
              "Platform         9    0   28   2   89  18  ...   0   57    16    24   49     4\n",
              "Puzzle           8    1   19   0  235  15  ...   0   53     4     6    7     0\n",
              "Racing           4    0   10   6   66   2  ...   0   91     3   100  121    19\n",
              "Role-Playing     0    0   84   4  196  21  ...   4   35     6    75   23    13\n",
              "Shooter         22    0    6   3   42   1  ...   0   60    10   197  123    33\n",
              "Simulation       1    1   28   1  279   5  ...   0   84     1    36   24     3\n",
              "Sports           9    0   25  10  146   9  ...   0  256     8   215  164    36\n",
              "Strategy         0    0   15   0   78   7  ...   2   25     3    27   21     3\n",
              "\n",
              "[12 rows x 31 columns]"
            ]
          },
          "metadata": {},
          "execution_count": 28
        }
      ]
    },
    {
      "cell_type": "markdown",
      "metadata": {
        "id": "E3RMtaCT4s8g"
      },
      "source": [
        "## **4. 결론**"
      ]
    },
    {
      "cell_type": "markdown",
      "metadata": {
        "id": "wMOuyUnWVhCe"
      },
      "source": [
        "Shooter 장르에 대한 이해도가 가장 높은 X360 플랫폼 기반으로 Shooter 게임을 출시한다."
      ]
    }
  ]
}